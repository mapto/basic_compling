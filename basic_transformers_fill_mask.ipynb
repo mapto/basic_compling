{
 "cells": [
  {
   "cell_type": "code",
   "execution_count": 1,
   "id": "1d5dee25",
   "metadata": {},
   "outputs": [
    {
     "name": "stderr",
     "output_type": "stream",
     "text": [
      "/usr/local/lib/python3.10/dist-packages/torchvision/io/image.py:13: UserWarning: Failed to load image Python extension: '/usr/local/lib/python3.10/dist-packages/torchvision/image.so: undefined symbol: _ZN3c1017RegisterOperatorsD1Ev'If you don't plan on using image functionality from `torchvision.io`, you can ignore this warning. Otherwise, there might be something wrong with your environment. Did you have `libjpeg` or `libpng` installed before building `torchvision` from source?\n",
      "  warn(\n"
     ]
    }
   ],
   "source": [
    "from transformers import pipeline"
   ]
  },
  {
   "cell_type": "markdown",
   "id": "722f98c9",
   "metadata": {},
   "source": [
    "https://huggingface.co/models?pipeline_tag=fill-mask"
   ]
  },
  {
   "cell_type": "code",
   "execution_count": 2,
   "id": "4e9dc024",
   "metadata": {},
   "outputs": [],
   "source": [
    "# modello = \"google-bert/bert-base-uncased\"\n",
    "modello = \"emanjavacas/MacBERTh\"\n",
    "frase_mascherata = \"To be, or not to be, [MASK] there's the point\""
   ]
  },
  {
   "cell_type": "code",
   "execution_count": 3,
   "id": "49cd1b60",
   "metadata": {},
   "outputs": [
    {
     "name": "stdout",
     "output_type": "stream",
     "text": [
      "token                 probability\n",
      "(                     0.4392\n",
      "and                   0.1827\n",
      "for                   0.1785\n",
      "—                     0.0361\n",
      "[                     0.0255\n"
     ]
    }
   ],
   "source": [
    "p = pipeline(\"fill-mask\", model=modello)\n",
    "scores = p(frase_mascherata, top_k=5)\n",
    "print(f'{\"token\":22}' f\"probability\")\n",
    "for s in scores:\n",
    "    print(f'{s[\"token_str\"]:22}' f'{s[\"score\"]:.4f}')"
   ]
  }
 ],
 "metadata": {
  "kernelspec": {
   "display_name": "Python 3 (ipykernel)",
   "language": "python",
   "name": "python3"
  },
  "language_info": {
   "codemirror_mode": {
    "name": "ipython",
    "version": 3
   },
   "file_extension": ".py",
   "mimetype": "text/x-python",
   "name": "python",
   "nbconvert_exporter": "python",
   "pygments_lexer": "ipython3",
   "version": "3.10.12"
  }
 },
 "nbformat": 4,
 "nbformat_minor": 5
}
