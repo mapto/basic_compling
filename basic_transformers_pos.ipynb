{
 "cells": [
  {
   "cell_type": "code",
   "execution_count": 1,
   "id": "1c001bc7",
   "metadata": {},
   "outputs": [
    {
     "name": "stderr",
     "output_type": "stream",
     "text": [
      "/usr/local/lib/python3.10/dist-packages/torchvision/io/image.py:13: UserWarning: Failed to load image Python extension: '/usr/local/lib/python3.10/dist-packages/torchvision/image.so: undefined symbol: _ZN3c1017RegisterOperatorsD1Ev'If you don't plan on using image functionality from `torchvision.io`, you can ignore this warning. Otherwise, there might be something wrong with your environment. Did you have `libjpeg` or `libpng` installed before building `torchvision` from source?\n",
      "  warn(\n"
     ]
    }
   ],
   "source": [
    "from transformers import pipeline"
   ]
  },
  {
   "cell_type": "markdown",
   "id": "138da34b",
   "metadata": {},
   "source": [
    "https://huggingface.co/models?pipeline_tag=fill-mask"
   ]
  },
  {
   "cell_type": "code",
   "execution_count": 2,
   "id": "d0a07511",
   "metadata": {},
   "outputs": [],
   "source": [
    "modello = \"annadmitrieva/old-church-slavonic-pos\"\n",
    "frase = \"\"\"Прологъ о Х҃ѣ оумѣренъ съкаꙁаниꙗ с҃тго еваньгелиꙗ,\n",
    "сътворенъ костѧнтинъмь имъже и прѣложениѥ бꙑсть, тогожде съкаꙁаниꙗ,\n",
    "ѥвангельскааго⁘\n",
    "\"\"\""
   ]
  },
  {
   "cell_type": "code",
   "execution_count": 9,
   "id": "37b5ae8a",
   "metadata": {},
   "outputs": [
    {
     "name": "stdout",
     "output_type": "stream",
     "text": [
      "token                 PoSDepType\n",
      "VERB 0.87515175 п\n",
      "VERB 0.8518339 ##р\n",
      "VERB 0.9031711 ##о\n",
      "VERB 0.8598467 ##л\n",
      "VERB 0.8383921 ##о\n",
      "VERB 0.8776152 ##г\n",
      "VERB 0.85048443 ##ъ\n",
      "ADP 0.9959163 о\n",
      "NOUN 0.48984808 Х҃ѣ\n",
      "NOUN 0.36329266 оумѣренъ\n",
      "NOUN 0.25304002 съкаꙁаниꙗ\n",
      "ADJ 0.5796312 с\n",
      "ADJ 0.7132356 ##т\n",
      "ADJ 0.59033924 ##г\n",
      "ADJ 0.57249343 ##о\n",
      "NOUN 0.3980819 еваньгелиꙗ\n",
      "CCONJ 0.27803123 ,\n",
      "VERB 0.9847402 с\n",
      "VERB 0.9920374 ##ъ\n",
      "VERB 0.98370045 ##т\n",
      "VERB 0.988399 ##в\n",
      "VERB 0.9922902 ##о\n",
      "VERB 0.98951423 ##р\n",
      "VERB 0.9908414 ##е\n",
      "VERB 0.9930507 ##н\n",
      "VERB 0.9943885 ##ъ\n",
      "NOUN 0.24072498 костѧнтинъмь\n",
      "PRON 0.99852043 и\n",
      "PRON 0.9977696 ##м\n",
      "PRON 0.99814856 ##ъ\n",
      "PRON 0.9984518 ##ж\n",
      "PRON 0.9972414 ##е\n",
      "CCONJ 0.7323508 и\n",
      "NOUN 0.4176754 прѣложениѥ\n",
      "NOUN 0.40219572 бꙑсть\n",
      "ADJ 0.33739653 ,\n",
      "ADV 0.6126964 т\n",
      "ADV 0.6402569 ##о\n",
      "ADV 0.77412903 ##г\n",
      "ADV 0.804145 ##о\n",
      "ADV 0.8769539 ##ж\n",
      "ADV 0.82942307 ##д\n",
      "ADV 0.8028758 ##е\n",
      "VERB 0.4077071 съкаꙁаниꙗ\n",
      "VERB 0.18064812 ,\n",
      "NOUN 0.42983595 ѥвангельскааго\n",
      "VERB 0.3171937 ⁘\n"
     ]
    }
   ],
   "source": [
    "p = pipeline(\"token-classification\", model=modello)\n",
    "tokens = p(frase)\n",
    "# print(\n",
    "#     f'{\"token\":22}'\n",
    "#     f'PoS'\n",
    "#     f'Dep'\n",
    "#     'Type'\n",
    "# )\n",
    "# print(scores)\n",
    "for token in tokens:\n",
    "    #     print(token)\n",
    "    print(token[\"entity\"], token[\"score\"], token[\"word\"])"
   ]
  }
 ],
 "metadata": {
  "kernelspec": {
   "display_name": "Python 3 (ipykernel)",
   "language": "python",
   "name": "python3"
  },
  "language_info": {
   "codemirror_mode": {
    "name": "ipython",
    "version": 3
   },
   "file_extension": ".py",
   "mimetype": "text/x-python",
   "name": "python",
   "nbconvert_exporter": "python",
   "pygments_lexer": "ipython3",
   "version": "3.10.12"
  }
 },
 "nbformat": 4,
 "nbformat_minor": 5
}
