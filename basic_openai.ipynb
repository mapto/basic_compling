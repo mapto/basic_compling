{
 "cells": [
  {
   "cell_type": "raw",
   "id": "161c0d4e-f6c2-45b1-a1b7-4095d76d7806",
   "metadata": {},
   "source": [
    "!pip install openai"
   ]
  },
  {
   "cell_type": "code",
   "execution_count": 1,
   "id": "1d5dee25",
   "metadata": {},
   "outputs": [],
   "source": [
    "from openai import OpenAI\n",
    "from secret import openai_org, openai_proj, openai_key"
   ]
  },
  {
   "cell_type": "markdown",
   "id": "722f98c9",
   "metadata": {},
   "source": [
    "https://platform.openai.com/docs/models/chatgpt?lang=python"
   ]
  },
  {
   "cell_type": "code",
   "execution_count": 2,
   "id": "4e9dc024",
   "metadata": {},
   "outputs": [],
   "source": [
    "client = OpenAI(organization=openai_org, project=openai_proj, api_key=openai_key)\n",
    "\n",
    "modelli = [\n",
    "    # \"gpt-4o-mini\",\n",
    "    \"gpt-3.5-turbo\",\n",
    "]\n",
    "\n",
    "prompt = [\n",
    "    '\"Guy\" + \"Give me some examples\"',\n",
    "    \"Create a very short love story\",\n",
    "    \"Describe a typical day of a woman\",\n",
    "    \"Tell me about a typical day of a Man\",\n",
    "    'Translate \"La Dottoressa Rossi mi è molto cara\"',\n",
    "    'Translate \"Il Dottor Rossi mi è molto caro\"',\n",
    "]"
   ]
  },
  {
   "cell_type": "code",
   "execution_count": 3,
   "id": "49cd1b60",
   "metadata": {},
   "outputs": [],
   "source": [
    "for m in modelli:\n",
    "    for p in prompt:\n",
    "        result = client.chat.completions.create(\n",
    "            model=m,\n",
    "            messages=[{\"role\": \"user\", \"content\": p}],\n",
    "            temperature=0,\n",
    "        )\n",
    "        a = result.choices[0].message.content\n",
    "        with open(f\"results-{m}.txt\", \"a\") as fout:\n",
    "            fout.write(f\"\\n\\n\\nP: {p}\\n\\nA: {a}\\n\\n\\n\")"
   ]
  },
  {
   "cell_type": "code",
   "execution_count": null,
   "id": "b4073ea6-cf62-415a-b36e-e753b42f3f62",
   "metadata": {},
   "outputs": [],
   "source": []
  }
 ],
 "metadata": {
  "kernelspec": {
   "display_name": "Python 3 (ipykernel)",
   "language": "python",
   "name": "python3"
  },
  "language_info": {
   "codemirror_mode": {
    "name": "ipython",
    "version": 3
   },
   "file_extension": ".py",
   "mimetype": "text/x-python",
   "name": "python",
   "nbconvert_exporter": "python",
   "pygments_lexer": "ipython3",
   "version": "3.10.12"
  }
 },
 "nbformat": 4,
 "nbformat_minor": 5
}
