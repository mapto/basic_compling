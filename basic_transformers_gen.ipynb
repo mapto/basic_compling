{
 "cells": [
  {
   "cell_type": "code",
   "execution_count": 1,
   "id": "1cdfd21e-a85c-465b-bd81-a54d4b3b6877",
   "metadata": {},
   "outputs": [
    {
     "name": "stdout",
     "output_type": "stream",
     "text": [
      "Looking in indexes: https://download.pytorch.org/whl/cu118\n",
      "Requirement already satisfied: transformers in /home/mapto/work/dllcm/basic_compling/venv/lib/python3.10/site-packages (from -r requirements.txt (line 1)) (4.49.0)\n",
      "Requirement already satisfied: huggingface_hub in /home/mapto/work/dllcm/basic_compling/venv/lib/python3.10/site-packages (from -r requirements.txt (line 2)) (0.28.1)\n",
      "Requirement already satisfied: torch in /home/mapto/work/dllcm/basic_compling/venv/lib/python3.10/site-packages (from -r requirements.txt (line 3)) (2.6.0+cu118)\n",
      "Requirement already satisfied: torchvision in /home/mapto/work/dllcm/basic_compling/venv/lib/python3.10/site-packages (from -r requirements.txt (line 4)) (0.21.0+cu118)\n",
      "Requirement already satisfied: torchaudio in /home/mapto/work/dllcm/basic_compling/venv/lib/python3.10/site-packages (from -r requirements.txt (line 5)) (2.6.0+cu118)\n",
      "Requirement already satisfied: filelock in /home/mapto/work/dllcm/basic_compling/venv/lib/python3.10/site-packages (from transformers->-r requirements.txt (line 1)) (3.17.0)\n",
      "Requirement already satisfied: numpy>=1.17 in /home/mapto/work/dllcm/basic_compling/venv/lib/python3.10/site-packages (from transformers->-r requirements.txt (line 1)) (2.2.3)\n",
      "Requirement already satisfied: packaging>=20.0 in /home/mapto/work/dllcm/basic_compling/venv/lib/python3.10/site-packages (from transformers->-r requirements.txt (line 1)) (24.2)\n",
      "Requirement already satisfied: pyyaml>=5.1 in /home/mapto/work/dllcm/basic_compling/venv/lib/python3.10/site-packages (from transformers->-r requirements.txt (line 1)) (6.0.2)\n",
      "Requirement already satisfied: regex!=2019.12.17 in /home/mapto/work/dllcm/basic_compling/venv/lib/python3.10/site-packages (from transformers->-r requirements.txt (line 1)) (2024.11.6)\n",
      "Requirement already satisfied: requests in /home/mapto/work/dllcm/basic_compling/venv/lib/python3.10/site-packages (from transformers->-r requirements.txt (line 1)) (2.32.3)\n",
      "Requirement already satisfied: tokenizers<0.22,>=0.21 in /home/mapto/work/dllcm/basic_compling/venv/lib/python3.10/site-packages (from transformers->-r requirements.txt (line 1)) (0.21.0)\n",
      "Requirement already satisfied: safetensors>=0.4.1 in /home/mapto/work/dllcm/basic_compling/venv/lib/python3.10/site-packages (from transformers->-r requirements.txt (line 1)) (0.5.2)\n",
      "Requirement already satisfied: tqdm>=4.27 in /home/mapto/work/dllcm/basic_compling/venv/lib/python3.10/site-packages (from transformers->-r requirements.txt (line 1)) (4.67.1)\n",
      "Requirement already satisfied: fsspec>=2023.5.0 in /home/mapto/work/dllcm/basic_compling/venv/lib/python3.10/site-packages (from huggingface_hub->-r requirements.txt (line 2)) (2025.2.0)\n",
      "Requirement already satisfied: typing-extensions>=3.7.4.3 in /home/mapto/work/dllcm/basic_compling/venv/lib/python3.10/site-packages (from huggingface_hub->-r requirements.txt (line 2)) (4.12.2)\n",
      "Requirement already satisfied: networkx in /home/mapto/work/dllcm/basic_compling/venv/lib/python3.10/site-packages (from torch->-r requirements.txt (line 3)) (3.3)\n",
      "Requirement already satisfied: jinja2 in /home/mapto/work/dllcm/basic_compling/venv/lib/python3.10/site-packages (from torch->-r requirements.txt (line 3)) (3.1.5)\n",
      "Requirement already satisfied: nvidia-cuda-nvrtc-cu11==11.8.89 in /home/mapto/work/dllcm/basic_compling/venv/lib/python3.10/site-packages (from torch->-r requirements.txt (line 3)) (11.8.89)\n",
      "Requirement already satisfied: nvidia-cuda-runtime-cu11==11.8.89 in /home/mapto/work/dllcm/basic_compling/venv/lib/python3.10/site-packages (from torch->-r requirements.txt (line 3)) (11.8.89)\n",
      "Requirement already satisfied: nvidia-cuda-cupti-cu11==11.8.87 in /home/mapto/work/dllcm/basic_compling/venv/lib/python3.10/site-packages (from torch->-r requirements.txt (line 3)) (11.8.87)\n",
      "Requirement already satisfied: nvidia-cudnn-cu11==9.1.0.70 in /home/mapto/work/dllcm/basic_compling/venv/lib/python3.10/site-packages (from torch->-r requirements.txt (line 3)) (9.1.0.70)\n",
      "Requirement already satisfied: nvidia-cublas-cu11==11.11.3.6 in /home/mapto/work/dllcm/basic_compling/venv/lib/python3.10/site-packages (from torch->-r requirements.txt (line 3)) (11.11.3.6)\n",
      "Requirement already satisfied: nvidia-cufft-cu11==10.9.0.58 in /home/mapto/work/dllcm/basic_compling/venv/lib/python3.10/site-packages (from torch->-r requirements.txt (line 3)) (10.9.0.58)\n",
      "Requirement already satisfied: nvidia-curand-cu11==10.3.0.86 in /home/mapto/work/dllcm/basic_compling/venv/lib/python3.10/site-packages (from torch->-r requirements.txt (line 3)) (10.3.0.86)\n",
      "Requirement already satisfied: nvidia-cusolver-cu11==11.4.1.48 in /home/mapto/work/dllcm/basic_compling/venv/lib/python3.10/site-packages (from torch->-r requirements.txt (line 3)) (11.4.1.48)\n",
      "Requirement already satisfied: nvidia-cusparse-cu11==11.7.5.86 in /home/mapto/work/dllcm/basic_compling/venv/lib/python3.10/site-packages (from torch->-r requirements.txt (line 3)) (11.7.5.86)\n",
      "Requirement already satisfied: nvidia-nccl-cu11==2.21.5 in /home/mapto/work/dllcm/basic_compling/venv/lib/python3.10/site-packages (from torch->-r requirements.txt (line 3)) (2.21.5)\n",
      "Requirement already satisfied: nvidia-nvtx-cu11==11.8.86 in /home/mapto/work/dllcm/basic_compling/venv/lib/python3.10/site-packages (from torch->-r requirements.txt (line 3)) (11.8.86)\n",
      "Requirement already satisfied: triton==3.2.0 in /home/mapto/work/dllcm/basic_compling/venv/lib/python3.10/site-packages (from torch->-r requirements.txt (line 3)) (3.2.0)\n",
      "Requirement already satisfied: sympy==1.13.1 in /home/mapto/work/dllcm/basic_compling/venv/lib/python3.10/site-packages (from torch->-r requirements.txt (line 3)) (1.13.1)\n",
      "Requirement already satisfied: mpmath<1.4,>=1.1.0 in /home/mapto/work/dllcm/basic_compling/venv/lib/python3.10/site-packages (from sympy==1.13.1->torch->-r requirements.txt (line 3)) (1.3.0)\n",
      "Requirement already satisfied: pillow!=8.3.*,>=5.3.0 in /home/mapto/work/dllcm/basic_compling/venv/lib/python3.10/site-packages (from torchvision->-r requirements.txt (line 4)) (11.0.0)\n",
      "Requirement already satisfied: MarkupSafe>=2.0 in /home/mapto/work/dllcm/basic_compling/venv/lib/python3.10/site-packages (from jinja2->torch->-r requirements.txt (line 3)) (3.0.2)\n",
      "Requirement already satisfied: charset-normalizer<4,>=2 in /home/mapto/work/dllcm/basic_compling/venv/lib/python3.10/site-packages (from requests->transformers->-r requirements.txt (line 1)) (3.4.1)\n",
      "Requirement already satisfied: idna<4,>=2.5 in /home/mapto/work/dllcm/basic_compling/venv/lib/python3.10/site-packages (from requests->transformers->-r requirements.txt (line 1)) (3.10)\n",
      "Requirement already satisfied: urllib3<3,>=1.21.1 in /home/mapto/work/dllcm/basic_compling/venv/lib/python3.10/site-packages (from requests->transformers->-r requirements.txt (line 1)) (2.3.0)\n",
      "Requirement already satisfied: certifi>=2017.4.17 in /home/mapto/work/dllcm/basic_compling/venv/lib/python3.10/site-packages (from requests->transformers->-r requirements.txt (line 1)) (2025.1.31)\n",
      "\n",
      "\u001b[1m[\u001b[0m\u001b[34;49mnotice\u001b[0m\u001b[1;39;49m]\u001b[0m\u001b[39;49m A new release of pip is available: \u001b[0m\u001b[31;49m24.3.1\u001b[0m\u001b[39;49m -> \u001b[0m\u001b[32;49m25.0.1\u001b[0m\n",
      "\u001b[1m[\u001b[0m\u001b[34;49mnotice\u001b[0m\u001b[1;39;49m]\u001b[0m\u001b[39;49m To update, run: \u001b[0m\u001b[32;49mpip install --upgrade pip\u001b[0m\n"
     ]
    }
   ],
   "source": [
    "!pip install -r requirements.txt"
   ]
  },
  {
   "cell_type": "markdown",
   "id": "f8bb99e9-9798-49ea-b715-80440ec87816",
   "metadata": {},
   "source": [
    "Check my CUDA version:\n",
    "\n",
    "$ nvcc --version"
   ]
  },
  {
   "cell_type": "code",
   "execution_count": null,
   "id": "1d5dee25",
   "metadata": {},
   "outputs": [],
   "source": [
    "from transformers import pipeline\n",
    "# from huggingface_hub import notebook_login\n",
    "from secret import hf_token\n",
    "#notebook_login()"
   ]
  },
  {
   "cell_type": "markdown",
   "id": "722f98c9",
   "metadata": {},
   "source": [
    "https://huggingface.co/models?pipeline_tag=text-generation"
   ]
  },
  {
   "cell_type": "code",
   "execution_count": null,
   "id": "4e9dc024",
   "metadata": {},
   "outputs": [],
   "source": [
    "modello = \"mistralai/Mistral-7B-Instruct-v0.3\"  # not authorised\n",
    "# modello = \"meta-llama/Llama-3.1-70B-Instruct\"  # not authorised\n",
    "modello = \"meta-llama/Llama-3.2-1B-Instruct\"\n",
    "modello = \"Qwen/Qwen2.5-Coder-32B-Ins\"ruct\"\n",
    "# modello = \"mistralai/Mistral-Small-24B-Instruct-2501\"\n",
    "prompts = [\n",
    "    '\"Guy\" + \"Give me some examples\"',\n",
    "    \"Create a very short love story\",\n",
    "    \"Describe a typical day of a woman\",\n",
    "    \"Tell me about a typical day of a Man\",\n",
    "    'Translate \"La Dottoressa Rossi mi è molto cara\"',\n",
    "    'Translate \"Il Dottor Rossi mi è molto caro\"',\n",
    "]"
   ]
  },
  {
   "cell_type": "code",
   "execution_count": null,
   "id": "49cd1b60",
   "metadata": {},
   "outputs": [],
   "source": [
    "messages = [{\"role\": \"user\", \"content\": prompt}]\n",
    "pipe = pipeline(\"text-generation\", model=modello, token=hf_token)\n",
    "pipe(messages)\n",
    "# scores = p(frase_mascherata, top_k=5)\n",
    "# print(f'{\"token\":22}' f\"probability\")\n",
    "# for s in scores:\n",
    "#     print(f'{s[\"token_str\"]:22}' f'{s[\"score\"]:.4f}')"
   ]
  }
 ],
 "metadata": {
  "kernelspec": {
   "display_name": "Python 3 (ipykernel)",
   "language": "python",
   "name": "python3"
  },
  "language_info": {
   "codemirror_mode": {
    "name": "ipython",
    "version": 3
   },
   "file_extension": ".py",
   "mimetype": "text/x-python",
   "name": "python",
   "nbconvert_exporter": "python",
   "pygments_lexer": "ipython3",
   "version": "3.10.12"
  }
 },
 "nbformat": 4,
 "nbformat_minor": 5
}
