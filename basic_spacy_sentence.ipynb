{
 "cells": [
  {
   "cell_type": "markdown",
   "id": "76549284",
   "metadata": {},
   "source": [
    "This tutorial is meant for Humanities students in Italy.\n",
    "To help distinguish what is defined by us and by others, we use variable names in Italian."
   ]
  },
  {
   "cell_type": "markdown",
   "id": "678b38ad",
   "metadata": {},
   "source": [
    "Further information:\n",
    "https://realpython.com/natural-language-processing-spacy-python/"
   ]
  },
  {
   "cell_type": "raw",
   "id": "0d8f49fd",
   "metadata": {},
   "source": [
    "!python -m spacy download en_core_web_sm"
   ]
  },
  {
   "cell_type": "code",
   "execution_count": 1,
   "id": "224b9a2b",
   "metadata": {},
   "outputs": [
    {
     "name": "stderr",
     "output_type": "stream",
     "text": [
      "/home/mapto/.local/lib/python3.10/site-packages/torch/cuda/__init__.py:546: UserWarning: Can't initialize NVML\n",
      "  warnings.warn(\"Can't initialize NVML\")\n"
     ]
    }
   ],
   "source": [
    "import spacy\n",
    "from spacy import displacy"
   ]
  },
  {
   "cell_type": "code",
   "execution_count": 18,
   "id": "e3d7df06",
   "metadata": {},
   "outputs": [],
   "source": [
    "# models need to be installed first\n",
    "# see https://spacy.io/models\n",
    "nome_modello = \"en_core_web_sm\"\n",
    "nome_modello = \"en_core_web_lg\"\n",
    "# nome_modello = \"en_core_web_trf\""
   ]
  },
  {
   "cell_type": "code",
   "execution_count": 8,
   "id": "c9124795",
   "metadata": {},
   "outputs": [],
   "source": [
    "frase = \"\"\"Natural language processing (NLP) is primarily concerned with providing computers with\n",
    "the ability to process data encoded in natural language and is thus closely related to information retrieval,\n",
    "knowledge representation and computational linguistics, a subfield of linguistics.\n",
    "\"\"\"\n",
    "frase = \"\"\"The byſſhop anſwered frowardely ynoughe & ſayde oure men bē ſhrewed & angry ynoughe to thēſelfe\n",
    "but to goddes ſeruaūtes they leye neuer honde but do hē greate reuerence & worſhyp But Englyſſh mē come into\n",
    "this londe that cā make martyrs & were wont to vſe ye crafte.\"\"\""
   ]
  },
  {
   "cell_type": "code",
   "execution_count": 20,
   "id": "298c4661",
   "metadata": {},
   "outputs": [],
   "source": [
    "nlp = spacy.load(nome_modello)\n",
    "doc = nlp(frase)"
   ]
  },
  {
   "cell_type": "markdown",
   "id": "c4d3a998",
   "metadata": {},
   "source": [
    "see also: https://spacy.io/api/token#attributes"
   ]
  },
  {
   "cell_type": "code",
   "execution_count": 21,
   "id": "b4828438",
   "metadata": {},
   "outputs": [
    {
     "name": "stdout",
     "output_type": "stream",
     "text": [
      "token                 lemma                 PoS       Dep       Punct   Stop    Alpha   OoV     \n",
      "The                   the                   DT        det       False   True    True    False   \n",
      "byſſhop               byſſhop               NNP       nsubj     False   False   True    True    \n",
      "anſwered              anſwere               VBD       ROOT      False   False   True    True    \n",
      "frowardely            frowardely            RB        compound  False   False   True    True    \n",
      "ynoughe               ynoughe               NNP       dobj      False   False   True    True    \n",
      "&                     &                     CC        cc        True    False   False   False   \n",
      "ſayde                 ſayde                 NNP       conj      False   False   True    True    \n",
      "oure                  oure                  NNP       npadvmod  False   False   True    True    \n",
      "men                   men                   NNP       compound  False   False   True    False   \n",
      "bē                   bē                   NNP       compound  False   False   False   True    \n",
      "ſhrewed               ſhrewed               NNP       appos     False   False   True    True    \n",
      "&                     &                     CC        cc        True    False   False   False   \n",
      "angry                 angry                 JJ        compound  False   False   True    False   \n",
      "ynoughe               ynoughe               NN        conj      False   False   True    True    \n",
      "to                    to                    IN        prep      False   True    True    False   \n",
      "thēſelfe             thēſelfe             DT        pobj      False   False   False   True    \n",
      "\n",
      "                     \n",
      "                     _SP       dep       False   False   False   True    \n",
      "but                   but                   CC        cc        False   True    True    False   \n",
      "to                    to                    IN        prep      False   True    True    False   \n",
      "goddes                godde                 NNS       compound  False   False   True    True    \n",
      "ſeruaūtes            ſeruaūte             NNS       pobj      False   False   False   True    \n",
      "they                  they                  PRP       nmod      False   True    True    False   \n",
      "leye                  leye                  NN        compound  False   False   True    True    \n",
      "neuer                 neuer                 NNP       pobj      False   False   True    False   \n",
      "honde                 honde                 FW        punct     False   False   True    True    \n",
      "but                   but                   CC        cc        False   True    True    False   \n",
      "do                    do                    VBP       ROOT      False   True    True    False   \n",
      "hē                   hē                   -RRB-     punct     False   False   False   True    \n",
      "greate                greate                JJ        amod      False   False   True    False   \n",
      "reuerence             reuerence             NN        dobj      False   False   True    True    \n",
      "&                     &                     CC        cc        True    False   False   False   \n",
      "worſhyp               worſhyp               NNP       conj      False   False   True    True    \n",
      "But                   but                   CC        cc        False   True    True    False   \n",
      "Englyſſh              Englyſſh              NNP       nsubj     False   False   True    True    \n",
      "mē                   mē                   NN        npadvmod  False   False   False   True    \n",
      "come                  come                  VBP       ROOT      False   False   True    False   \n",
      "into                  into                  IN        prep      False   True    True    False   \n",
      "\n",
      "                     \n",
      "                     _SP       dep       False   False   False   True    \n",
      "this                  this                  DT        det       False   True    True    False   \n",
      "londe                 londe                 NN        pobj      False   False   True    True    \n",
      "that                  that                  WDT       nsubj     False   True    True    False   \n",
      "cā                   cā                   NNP       nsubj     False   False   False   True    \n",
      "make                  make                  VB        relcl     False   True    True    False   \n",
      "martyrs               martyr                NNS       dobj      False   False   True    False   \n",
      "&                     &                     CC        cc        True    False   False   False   \n",
      "were                  be                    VBD       conj      False   True    True    False   \n",
      "wo                    will                  MD        acomp     False   False   True    False   \n",
      "nt                    not                   RB        neg       False   False   True    False   \n",
      "to                    to                    TO        aux       False   True    True    False   \n",
      "vſe                   vſe                   NNP       xcomp     False   False   True    True    \n",
      "ye                    ye                    NNP       dobj      False   False   True    False   \n",
      "crafte                crafte                NNP       dobj      False   False   True    True    \n",
      ".                     .                     .         punct     True    False   False   False   \n"
     ]
    }
   ],
   "source": [
    "print(\n",
    "    f'{\"token\":22}'\n",
    "    f'{\"lemma\":22}'\n",
    "    f'{\"PoS\":10}'\n",
    "    f'{\"Dep\":10}'\n",
    "    f'{\"Punct\":8}'\n",
    "    f'{\"Stop\":8}'\n",
    "    f'{\"Alpha\":8}'\n",
    "    f'{\"OoV\":8}'  # Out of vocabulary\n",
    ")\n",
    "for token in doc:\n",
    "    print(\n",
    "        f\"{str(token.text_with_ws):22}\"\n",
    "        f\"{str(token.lemma_):22}\"\n",
    "        f\"{str(token.tag_):10}\"\n",
    "        f\"{str(token.dep_):10}\"\n",
    "        f\"{str(token.is_punct):8}\"\n",
    "        f\"{str(token.is_stop):8}\"\n",
    "        f\"{str(token.is_alpha):8}\"\n",
    "        f\"{str(token.is_oov):8}\"\n",
    "    )"
   ]
  },
  {
   "cell_type": "code",
   "execution_count": null,
   "id": "4a1b8869",
   "metadata": {},
   "outputs": [],
   "source": [
    "displacy.serve(doc, style=\"dep\")"
   ]
  }
 ],
 "metadata": {
  "kernelspec": {
   "display_name": "Python 3 (ipykernel)",
   "language": "python",
   "name": "python3"
  },
  "language_info": {
   "codemirror_mode": {
    "name": "ipython",
    "version": 3
   },
   "file_extension": ".py",
   "mimetype": "text/x-python",
   "name": "python",
   "nbconvert_exporter": "python",
   "pygments_lexer": "ipython3",
   "version": "3.10.12"
  }
 },
 "nbformat": 4,
 "nbformat_minor": 5
}
